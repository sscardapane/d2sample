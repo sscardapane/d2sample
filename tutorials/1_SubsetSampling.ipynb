{
 "cells": [
  {
   "attachments": {},
   "cell_type": "markdown",
   "metadata": {},
   "source": [
    "## Tutorial Notebook 1: Subset sampling\n",
    "\n",
    "A tutorial showing how to perform $k$-subset sampling with the available solvers."
   ]
  },
  {
   "cell_type": "code",
   "execution_count": 1,
   "metadata": {},
   "outputs": [],
   "source": [
    "## Install the library\n",
    "import sys\n",
    "sys.path.append('./d2sample/')"
   ]
  },
  {
   "cell_type": "code",
   "execution_count": 2,
   "metadata": {},
   "outputs": [],
   "source": [
    "from d2sample.subset.gumbel import k_gumbel_softmax, TopKGumbelSoftmax"
   ]
  },
  {
   "cell_type": "code",
   "execution_count": 3,
   "metadata": {},
   "outputs": [],
   "source": [
    "import torch\n",
    "import torch.nn.functional as F"
   ]
  },
  {
   "cell_type": "code",
   "execution_count": 4,
   "metadata": {},
   "outputs": [],
   "source": [
    "# Generate some fake logits\n",
    "logits = torch.randn((1, 15), requires_grad=True)"
   ]
  },
  {
   "cell_type": "code",
   "execution_count": 5,
   "metadata": {},
   "outputs": [],
   "source": [
    "# Top-1 sampling is equivalent to classical Gumbel-Softmax\n",
    "draws = torch.zeros((15,))\n",
    "for i in range(1000):\n",
    "  draws += k_gumbel_softmax(logits, k=1, hard=True)[0]"
   ]
  },
  {
   "cell_type": "code",
   "execution_count": 6,
   "metadata": {},
   "outputs": [
    {
     "data": {
      "text/plain": [
       "<BarContainer object of 15 artists>"
      ]
     },
     "execution_count": 6,
     "metadata": {},
     "output_type": "execute_result"
    },
    {
     "data": {
      "image/png": "[encoded data removed]",
      "text/plain": [
       "<Figure size 640x480 with 1 Axes>"
      ]
     },
     "metadata": {},
     "output_type": "display_data"
    }
   ],
   "source": [
    "import matplotlib.pyplot as plt\n",
    "plt.bar(range(15), F.softmax(logits, 1).detach()[0], alpha=0.3)\n",
    "plt.bar(range(15), draws.detach() / 1000, color='r', alpha=0.5)"
   ]
  },
  {
   "cell_type": "code",
   "execution_count": 7,
   "metadata": {},
   "outputs": [
    {
     "data": {
      "text/plain": [
       "tensor([[1., 0., 0., 0., 0., 1., 0., 0., 0., 0., 0., 0., 1., 0., 0.]],\n",
       "       grad_fn=<AddBackward0>)"
      ]
     },
     "execution_count": 7,
     "metadata": {},
     "output_type": "execute_result"
    }
   ],
   "source": [
    "# Check a top-3 draw\n",
    "k_gumbel_softmax(logits, k=3, hard=True)"
   ]
  },
  {
   "cell_type": "code",
   "execution_count": 8,
   "metadata": {},
   "outputs": [],
   "source": [
    "# Everything is differentiable\n",
    "k_gumbel_softmax(logits, k=1, hard=True).sum().backward()"
   ]
  },
  {
   "cell_type": "code",
   "execution_count": 9,
   "metadata": {},
   "outputs": [
    {
     "data": {
      "text/plain": [
       "tensor([[0.0096, 0.1785, 0.0571, 1.2462, 0.1229, 0.0665, 0.0293, 0.0414, 0.0196,\n",
       "         0.1408, 0.0244, 0.0022, 0.0342, 0.0122, 0.0152]],\n",
       "       grad_fn=<AddBackward0>)"
      ]
     },
     "execution_count": 9,
     "metadata": {},
     "output_type": "execute_result"
    }
   ],
   "source": [
    "# We also have a layered version\n",
    "TopKGumbelSoftmax(k=2)(logits)"
   ]
  },
  {
   "cell_type": "code",
   "execution_count": 10,
   "metadata": {},
   "outputs": [],
   "source": [
    "# Other methods have similar syntax\n",
    "from d2sample.subset.imle import KIMLESampler"
   ]
  },
  {
   "cell_type": "code",
   "execution_count": 11,
   "metadata": {},
   "outputs": [
    {
     "data": {
      "text/plain": [
       "tensor([[1., 0., 0., 1., 0., 0., 0., 0., 0., 1., 0., 0., 0., 0., 0.]],\n",
       "       grad_fn=<WrappedFuncBackward>)"
      ]
     },
     "execution_count": 11,
     "metadata": {},
     "output_type": "execute_result"
    }
   ],
   "source": [
    "# Only have object-oriented version\n",
    "KIMLESampler(k=3)(logits)"
   ]
  },
  {
   "cell_type": "code",
   "execution_count": 12,
   "metadata": {},
   "outputs": [
    {
     "ename": "NameError",
     "evalue": "name 'SIMPLE' is not defined",
     "output_type": "error",
     "traceback": [
      "\u001b[1;31m---------------------------------------------------------------------------\u001b[0m",
      "\u001b[1;31mNameError\u001b[0m                                 Traceback (most recent call last)",
      "Cell \u001b[1;32mIn[12], line 1\u001b[0m\n\u001b[1;32m----> 1\u001b[0m \u001b[39mfrom\u001b[39;00m \u001b[39md2sample\u001b[39;00m\u001b[39m.\u001b[39;00m\u001b[39msubset\u001b[39;00m\u001b[39m.\u001b[39;00m\u001b[39msimple\u001b[39;00m \u001b[39mimport\u001b[39;00m simple_sampler, SIMPLESampler\n",
      "File \u001b[1;32md:\\Codice\\git-repositories\\d2sample\\d2sample\\subset\\simple.py:128\u001b[0m\n\u001b[0;32m    125\u001b[0m         _, tangent_out \u001b[39m=\u001b[39m ft\u001b[39m.\u001b[39mjvp(ft\u001b[39m.\u001b[39mgrad(\u001b[39mlambda\u001b[39;00m logits: marginals(logits, \u001b[39m2\u001b[39m)[:, \u001b[39m-\u001b[39m\u001b[39m1\u001b[39m, ctx\u001b[39m.\u001b[39mk\u001b[39m+\u001b[39m\u001b[39m1\u001b[39m:ctx\u001b[39m.\u001b[39mk\u001b[39m+\u001b[39m\u001b[39m2\u001b[39m]\u001b[39m.\u001b[39msum()), logits, (grad_output,))\n\u001b[0;32m    126\u001b[0m         \u001b[39mreturn\u001b[39;00m tangent_out, \u001b[39mNone\u001b[39;00m\n\u001b[1;32m--> 128\u001b[0m simple_sampling \u001b[39m=\u001b[39m SIMPLE\u001b[39m.\u001b[39mapply\n",
      "\u001b[1;31mNameError\u001b[0m: name 'SIMPLE' is not defined"
     ]
    }
   ],
   "source": [
    "from d2sample.subset.simple import simple_sampler, SIMPLESampler"
   ]
  },
  {
   "cell_type": "code",
   "execution_count": null,
   "metadata": {},
   "outputs": [],
   "source": [
    "# Both functional and object-oriented variant\n"
   ]
  }
 ],
 "metadata": {
  "kernelspec": {
   "display_name": "d2sample",
   "language": "python",
   "name": "python3"
  },
  "language_info": {
   "codemirror_mode": {
    "name": "ipython",
    "version": 3
   },
   "file_extension": ".py",
   "mimetype": "text/x-python",
   "name": "python",
   "nbconvert_exporter": "python",
   "pygments_lexer": "ipython3",
   "version": "3.9.0"
  },
  "orig_nbformat": 4,
  "vscode": {
   "interpreter": {
    "hash": "9379240e6101feb669961c5e36bd155273b17be1a2f9d5eb358d4fc568dda9a3"
   }
  }
 },
 "nbformat": 4,
 "nbformat_minor": 2
}
